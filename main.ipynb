{
 "cells": [
  {
   "cell_type": "code",
   "execution_count": 2,
   "metadata": {},
   "outputs": [
    {
     "name": "stdout",
     "output_type": "stream",
     "text": [
      "---- Buying Stocks ----\n"
     ]
    },
    {
     "ename": "UnboundLocalError",
     "evalue": "cannot access local variable 'current_node' where it is not associated with a value",
     "output_type": "error",
     "traceback": [
      "\u001b[0;31m---------------------------------------------------------------------------\u001b[0m",
      "\u001b[0;31mUnboundLocalError\u001b[0m                         Traceback (most recent call last)",
      "Cell \u001b[0;32mIn[2], line 11\u001b[0m\n\u001b[1;32m      9\u001b[0m \u001b[38;5;66;03m# 1. Buying Stocks\u001b[39;00m\n\u001b[1;32m     10\u001b[0m \u001b[38;5;28mprint\u001b[39m(\u001b[38;5;124m\"\u001b[39m\u001b[38;5;124m---- Buying Stocks ----\u001b[39m\u001b[38;5;124m\"\u001b[39m)\n\u001b[0;32m---> 11\u001b[0m stock_ledger\u001b[38;5;241m.\u001b[39mbuy(\u001b[38;5;124m\"\u001b[39m\u001b[38;5;124mAAPL\u001b[39m\u001b[38;5;124m\"\u001b[39m, \u001b[38;5;241m20\u001b[39m, \u001b[38;5;241m45.0\u001b[39m)  \u001b[38;5;66;03m# Buy 20 shares of AAPL at $45\u001b[39;00m\n\u001b[1;32m     12\u001b[0m stock_ledger\u001b[38;5;241m.\u001b[39mbuy(\u001b[38;5;124m\"\u001b[39m\u001b[38;5;124mAAPL\u001b[39m\u001b[38;5;124m\"\u001b[39m, \u001b[38;5;241m20\u001b[39m, \u001b[38;5;241m75.0\u001b[39m)  \u001b[38;5;66;03m# Buy 20 shares of AAPL at $75\u001b[39;00m\n\u001b[1;32m     13\u001b[0m stock_ledger\u001b[38;5;241m.\u001b[39mbuy(\u001b[38;5;124m\"\u001b[39m\u001b[38;5;124mMSFT\u001b[39m\u001b[38;5;124m\"\u001b[39m, \u001b[38;5;241m20\u001b[39m, \u001b[38;5;241m95.0\u001b[39m)  \u001b[38;5;66;03m# Buy 20 shares of MSFT at $95\u001b[39;00m\n",
      "File \u001b[0;32m~/CapitalGainsTracker/stock_ledger.py:29\u001b[0m, in \u001b[0;36mStockLedger.buy\u001b[0;34m(self, stock_symbol, shares_bought, price_per_share)\u001b[0m\n\u001b[1;32m     27\u001b[0m \u001b[38;5;28;01mdef\u001b[39;00m \u001b[38;5;21mbuy\u001b[39m(\u001b[38;5;28mself\u001b[39m, stock_symbol, shares_bought, price_per_share):\n\u001b[1;32m     28\u001b[0m     \u001b[38;5;66;03m# entry for stock symbol alr exisits?\u001b[39;00m\n\u001b[0;32m---> 29\u001b[0m     entry \u001b[38;5;241m=\u001b[39m \u001b[38;5;28mself\u001b[39m\u001b[38;5;241m.\u001b[39mget_entry(stock_symbol)\n\u001b[1;32m     31\u001b[0m     \u001b[38;5;28;01mif\u001b[39;00m entry \u001b[38;5;129;01mis\u001b[39;00m \u001b[38;5;28;01mNone\u001b[39;00m:\n\u001b[1;32m     32\u001b[0m         entry \u001b[38;5;241m=\u001b[39m LedgerEntry(stock_symbol)\n",
      "File \u001b[0;32m~/CapitalGainsTracker/stock_ledger.py:19\u001b[0m, in \u001b[0;36mStockLedger.get_entry\u001b[0;34m(self, stock_symbol)\u001b[0m\n\u001b[1;32m     18\u001b[0m \u001b[38;5;28;01mdef\u001b[39;00m \u001b[38;5;21mget_entry\u001b[39m(\u001b[38;5;28mself\u001b[39m, stock_symbol):\n\u001b[0;32m---> 19\u001b[0m     \u001b[38;5;28;01mwhile\u001b[39;00m current_node \u001b[38;5;129;01mis\u001b[39;00m \u001b[38;5;129;01mnot\u001b[39;00m \u001b[38;5;28;01mNone\u001b[39;00m:\n\u001b[1;32m     20\u001b[0m         entry \u001b[38;5;241m=\u001b[39m current_node\u001b[38;5;241m.\u001b[39mget_data()\n\u001b[1;32m     21\u001b[0m         \u001b[38;5;28;01mif\u001b[39;00m entry\u001b[38;5;241m.\u001b[39mequals(LedgerEntry(stock_symbol)):\n",
      "\u001b[0;31mUnboundLocalError\u001b[0m: cannot access local variable 'current_node' where it is not associated with a value"
     ]
    }
   ],
   "source": [
    "from linked_deque import LinkedDeque\n",
    "from ledger_entry import LedgerEntry\n",
    "from stock_ledger import StockLedger\n",
    "from stock_purchase import StockPurchase\n",
    "\n",
    "# Initialize StockLedger\n",
    "stock_ledger = StockLedger()\n",
    "\n",
    "# 1. Buying Stocks\n",
    "print(\"---- Buying Stocks ----\")\n",
    "stock_ledger.buy(\"AAPL\", 20, 45.0)  # Buy 20 shares of AAPL at $45\n",
    "stock_ledger.buy(\"AAPL\", 20, 75.0)  # Buy 20 shares of AAPL at $75\n",
    "stock_ledger.buy(\"MSFT\", 20, 95.0)  # Buy 20 shares of MSFT at $95\n",
    "\n",
    "# Display ledger after buying\n",
    "stock_ledger.display_ledger()\n",
    "\n",
    "# 2. Selling Stocks\n",
    "print(\"---- Selling Stocks ----\")\n",
    "stock_ledger.sell(\"AAPL\", 30, 65.0)  # Sell 30 shares of AAPL at $65\n",
    "stock_ledger.display_ledger()\n",
    "\n",
    "stock_ledger.sell(\"AAPL\", 10, 65.0)  # Sell 10 shares of AAPL at $65\n",
    "stock_ledger.display_ledger()\n",
    "\n",
    "# 3. More Buying\n",
    "print(\"---- More Buying ----\")\n",
    "stock_ledger.buy(\"AAPL\", 100, 20.0)  # Buy 100 shares of AAPL at $20\n",
    "stock_ledger.buy(\"AAPL\", 20, 24.0)   # Buy 20 shares of AAPL at $24\n",
    "stock_ledger.buy(\"TSLA\", 200, 36.0)  # Buy 200 shares of TSLA at $36\n",
    "\n",
    "# Display ledger after more buying\n",
    "stock_ledger.display_ledger()\n",
    "\n",
    "# 4. More Selling\n",
    "print(\"---- More Selling ----\")\n",
    "stock_ledger.sell(\"AAPL\", 10, 65.0)  # Sell 10 shares of AAPL at $65\n",
    "stock_ledger.display_ledger()\n",
    "\n",
    "stock_ledger.sell(\"TSLA\", 150, 30.0)  # Sell 150 shares of TSLA at $30\n",
    "stock_ledger.display_ledger()\n",
    "\n",
    "# 5. Final Buying and Selling\n",
    "print(\"---- Final Buying and Selling ----\")\n",
    "stock_ledger.buy(\"MSFT\", 5, 60.0)    # Buy 5 shares of MSFT at $60\n",
    "stock_ledger.buy(\"MSFT\", 5, 70.0)    # Buy 5 shares of MSFT at $70\n",
    "stock_ledger.display_ledger()\n",
    "\n",
    "stock_ledger.sell(\"MSFT\", 4, 30.0)   # Sell 4 shares of MSFT at $30\n",
    "stock_ledger.display_ledger()\n",
    "\n",
    "stock_ledger.sell(\"MSFT\", 2, 30.0)   # Sell 2 shares of MSFT at $30\n",
    "stock_ledger.display_ledger()\n"
   ]
  }
 ],
 "metadata": {
  "kernelspec": {
   "display_name": "base",
   "language": "python",
   "name": "python3"
  },
  "language_info": {
   "codemirror_mode": {
    "name": "ipython",
    "version": 3
   },
   "file_extension": ".py",
   "mimetype": "text/x-python",
   "name": "python",
   "nbconvert_exporter": "python",
   "pygments_lexer": "ipython3",
   "version": "3.12.4"
  }
 },
 "nbformat": 4,
 "nbformat_minor": 2
}
